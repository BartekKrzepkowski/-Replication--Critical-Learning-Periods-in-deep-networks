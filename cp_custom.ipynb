{
 "cells": [
  {
   "cell_type": "code",
   "execution_count": null,
   "id": "australian-electronics",
   "metadata": {},
   "outputs": [],
   "source": [
    "%load_ext autoreload\n",
    "%autoreload 2\n",
    "%load_ext tensorboard"
   ]
  },
  {
   "cell_type": "code",
   "execution_count": null,
   "id": "arbitrary-brain",
   "metadata": {},
   "outputs": [],
   "source": [
    "%matplotlib inline\n",
    "\n",
    "import torch\n",
    "import torch.nn as nn\n",
    "import torch.optim as optim\n",
    "device = torch.device('cuda:0' if torch.cuda.is_available() else 'cpu')"
   ]
  },
  {
   "cell_type": "code",
   "execution_count": null,
   "id": "regional-dayton",
   "metadata": {
    "tags": []
   },
   "outputs": [],
   "source": [
    "from trainer import Trainer, IteratorParams\n",
    "from models import AllCNN\n",
    "from data import Loaders\n",
    "\n",
    "DATASET_NAME = 'cifar10'\n",
    "params_trainer = {\n",
    "    'model': AllCNN,\n",
    "    'loader_train': Loaders(DATASET_NAME).get_blurred_loader,\n",
    "    'loader_test': Loaders(DATASET_NAME).get_proper_loader,\n",
    "    'criterion': torch.nn.CrossEntropyLoss,\n",
    "    'optim': torch.optim.SGD,\n",
    "    'scheduler': torch.optim.lr_scheduler.ExponentialLR\n",
    "}\n",
    "\n",
    "trainer = Trainer(**params_trainer)"
   ]
  },
  {
   "cell_type": "code",
   "execution_count": null,
   "id": "stupid-pavilion",
   "metadata": {},
   "outputs": [],
   "source": [
    "%tensorboard --logdir=runs"
   ]
  },
  {
   "cell_type": "code",
   "execution_count": null,
   "id": "egyptian-recognition",
   "metadata": {
    "tags": []
   },
   "outputs": [],
   "source": [
    "model_ls = [{}]\n",
    "loaders_ls = [{'batch_size':128}]\n",
    "criterion_ls = [{}]\n",
    "optim_ls = [{'lr': 0.05, 'weight_decay': 0.001}]\n",
    "scheduler_ls = [{'gamma':0.97}]\n",
    "step_ls = [{'step': step} for step in range(0, 141, 35)]\n",
    "\n",
    "iter_params = IteratorParams(model_ls, loaders_ls, criterion_ls, optim_ls, scheduler_ls, step_ls)\n",
    "\n",
    "params_runs = {\n",
    "    'iter_params': iter_params,\n",
    "    'epochs': 140,\n",
    "    'exp_name': 'cifar_without_deficit',\n",
    "    'log_dir': 'runs/tensorboard/',\n",
    "    'val_step': 35,\n",
    "    'dataset_name': DATASET_NAME,\n",
    "    'device': device\n",
    "}\n",
    "\n",
    "trainer.run_trainer(**params_runs)"
   ]
  },
  {
   "cell_type": "code",
   "execution_count": null,
   "id": "looking-broad",
   "metadata": {},
   "outputs": [],
   "source": [
    "device"
   ]
  },
  {
   "cell_type": "code",
   "execution_count": null,
   "id": "decimal-wireless",
   "metadata": {},
   "outputs": [],
   "source": []
  }
 ],
 "metadata": {
  "kernelspec": {
   "display_name": "tldl",
   "language": "python",
   "name": "tldl"
  },
  "language_info": {
   "codemirror_mode": {
    "name": "ipython",
    "version": 3
   },
   "file_extension": ".py",
   "mimetype": "text/x-python",
   "name": "python",
   "nbconvert_exporter": "python",
   "pygments_lexer": "ipython3",
   "version": "3.8.10"
  }
 },
 "nbformat": 4,
 "nbformat_minor": 5
}
